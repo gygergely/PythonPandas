{
 "cells": [
  {
   "cell_type": "code",
   "execution_count": null,
   "metadata": {},
   "outputs": [],
   "source": [
    "import pandas as pd\n",
    "import sqlite3\n",
    "from datetime import datetime as dt"
   ]
  },
  {
   "cell_type": "markdown",
   "metadata": {},
   "source": [
    "### Load data sets to dataframe"
   ]
  },
  {
   "cell_type": "code",
   "execution_count": null,
   "metadata": {},
   "outputs": [],
   "source": [
    "# get list prices data set from github\n",
    "df_list_prices = pd.read_csv('https://raw.githubusercontent.com/gygergely/PythonPandas/master/00_src_files/list_prices.csv',\n",
    "                       parse_dates = ['valid_from', 'valid_to'], \n",
    "                       dtype = {'product_id': 'str',\n",
    "                               'list_price': 'float64'})"
   ]
  },
  {
   "cell_type": "code",
   "execution_count": null,
   "metadata": {},
   "outputs": [],
   "source": [
    "# get transactions data set from github\n",
    "df_trans = pd.read_csv('https://raw.githubusercontent.com/gygergely/PythonPandas/master/00_src_files/transactions.csv',\n",
    "                      parse_dates = ['sales_date'],\n",
    "                      dtype = {'sold_qty': 'int64',\n",
    "                              'sales_price': 'float64'})"
   ]
  },
  {
   "cell_type": "markdown",
   "metadata": {},
   "source": [
    "### Quick look at the data frames data types"
   ]
  },
  {
   "cell_type": "code",
   "execution_count": null,
   "metadata": {},
   "outputs": [],
   "source": [
    "df_list_prices.info()"
   ]
  },
  {
   "cell_type": "code",
   "execution_count": null,
   "metadata": {},
   "outputs": [],
   "source": [
    "df_trans.info()"
   ]
  },
  {
   "cell_type": "markdown",
   "metadata": {},
   "source": [
    "### Create a sqlite database and look-up the list prices"
   ]
  },
  {
   "cell_type": "code",
   "execution_count": null,
   "metadata": {},
   "outputs": [],
   "source": [
    "# print the shape of transaction data frame\n",
    "print(df_trans.shape)\n",
    "\n",
    "# create an sqlite db in memory\n",
    "conn = sqlite3.connect(':memory:')\n",
    "\n",
    "# read the data to tables\n",
    "df_trans.to_sql('trans', conn, index = False)\n",
    "df_list_prices.to_sql('list_prices', conn, index = False)\n",
    "\n",
    "# sql query to run\n",
    "sql_query = '''\n",
    "    SELECT \n",
    "        trans.*,\n",
    "        list_prices.list_price\n",
    "    FROM\n",
    "        trans\n",
    "        LEFT JOIN list_prices \n",
    "        ON trans.product_id = list_prices.product_id\n",
    "        AND (list_prices.valid_from <= trans.sales_date \n",
    "            AND list_prices.valid_to >= trans.sales_date)\n",
    "'''\n",
    "\n",
    "# re-read the sql query results to df_trans data frame\n",
    "df_trans = pd.read_sql_query(sql_query, conn)\n",
    "\n",
    "# print the shape of transaction data frame\n",
    "print(df_trans.shape)"
   ]
  },
  {
   "cell_type": "markdown",
   "metadata": {},
   "source": [
    "### Print the first 10 items from transactions data frame"
   ]
  },
  {
   "cell_type": "code",
   "execution_count": null,
   "metadata": {},
   "outputs": [],
   "source": [
    "df_trans.head(10)"
   ]
  },
  {
   "cell_type": "code",
   "execution_count": null,
   "metadata": {},
   "outputs": [],
   "source": []
  }
 ],
 "metadata": {
  "kernelspec": {
   "display_name": "Python 3",
   "language": "python",
   "name": "python3"
  },
  "language_info": {
   "codemirror_mode": {
    "name": "ipython",
    "version": 3
   },
   "file_extension": ".py",
   "mimetype": "text/x-python",
   "name": "python",
   "nbconvert_exporter": "python",
   "pygments_lexer": "ipython3",
   "version": "3.8.3"
  }
 },
 "nbformat": 4,
 "nbformat_minor": 4
}
